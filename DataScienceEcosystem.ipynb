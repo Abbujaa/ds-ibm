{
 "cells": [
  {
   "cell_type": "markdown",
   "id": "786105b3-3e03-42e5-8306-a73d55b271f9",
   "metadata": {},
   "source": [
    "# Data Science Tools and ecosystem"
   ]
  },
  {
   "cell_type": "markdown",
   "id": "60c19d55-b794-468a-8551-f9a7340b6aa7",
   "metadata": {},
   "source": [
    "In this notebook, Data Science Tools and Ecosystem are summarized."
   ]
  },
  {
   "cell_type": "markdown",
   "id": "698f6818-9246-42af-9af2-983dde13fbe5",
   "metadata": {},
   "source": [
    "__Objectives:__ \n",
    "* List popular languages for Data Science\n",
    "* List popular libraries for Data Science\n",
    "* Tools for Data Science\n",
    "* arithmetic expressions in python\n",
    "* hours to minutes"
   ]
  },
  {
   "cell_type": "markdown",
   "id": "bc68a19a-d5cb-4b3f-a4a8-2028e1515430",
   "metadata": {},
   "source": [
    "Some of the popular languages that Data Scientists use are:\n",
    "1. Python\n",
    "2. R language\n",
    "3. SQL "
   ]
  },
  {
   "cell_type": "markdown",
   "id": "1a5c9df9-9c96-44cf-93bb-be2f230cbf86",
   "metadata": {},
   "source": [
    "Some of the commonly used libraries used by Data Scientists include:\n",
    "1. Pandas\n",
    "2. Pytorch\n",
    "3. Tensorflow"
   ]
  },
  {
   "cell_type": "markdown",
   "id": "837612da-30f1-4ccd-85bc-f1d2fe638417",
   "metadata": {},
   "source": [
    "|Data Science Tools|\n",
    "------\n",
    "| ggplot2 |\n",
    "| watson studio |\n",
    "| apache spark|"
   ]
  },
  {
   "cell_type": "markdown",
   "id": "27aaaa0c-2068-4e7b-8c7a-dc2eee774db9",
   "metadata": {},
   "source": [
    "### Below are a few examples of evaluating arithmetic expressions in Python."
   ]
  },
  {
   "cell_type": "code",
   "execution_count": 1,
   "id": "4873bf7f-a959-4438-862e-28e2083c83ae",
   "metadata": {},
   "outputs": [
    {
     "data": {
      "text/plain": [
       "17"
      ]
     },
     "execution_count": 1,
     "metadata": {},
     "output_type": "execute_result"
    }
   ],
   "source": [
    "#This a simple arithmetic expression to multiply then add integers\n",
    "(3*4)+5"
   ]
  },
  {
   "cell_type": "code",
   "execution_count": 2,
   "id": "fe929692-0676-401d-9010-c4b84f075bc6",
   "metadata": {},
   "outputs": [
    {
     "data": {
      "text/plain": [
       "3.3333333333333335"
      ]
     },
     "execution_count": 2,
     "metadata": {},
     "output_type": "execute_result"
    }
   ],
   "source": [
    "#This will convert 200 minutes to hours by diving by 60\n",
    "200/60"
   ]
  },
  {
   "cell_type": "markdown",
   "id": "6cefd2fb-9088-490d-886b-50ce84269cbc",
   "metadata": {},
   "source": [
    "## Author\n",
    "A"
   ]
  }
 ],
 "metadata": {
  "kernelspec": {
   "display_name": "Python",
   "language": "python",
   "name": "conda-env-python-py"
  },
  "language_info": {
   "codemirror_mode": {
    "name": "ipython",
    "version": 3
   },
   "file_extension": ".py",
   "mimetype": "text/x-python",
   "name": "python",
   "nbconvert_exporter": "python",
   "pygments_lexer": "ipython3",
   "version": "3.7.12"
  }
 },
 "nbformat": 4,
 "nbformat_minor": 5
}
